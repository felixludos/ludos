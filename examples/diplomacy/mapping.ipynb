{
 "cells": [
  {
   "cell_type": "code",
   "execution_count": 1,
   "metadata": {},
   "outputs": [],
   "source": [
    "\n",
    "import sys, os\n",
    "\n",
    "import omnifig as fig\n",
    "\n",
    "# import numpy as np\n",
    "from omnibelt import load_yaml, save_yaml\n",
    "%matplotlib qt\n",
    "import matplotlib.pyplot as plt\n",
    "import matplotlib.image as mpimg\n",
    "\n",
    "from src import util\n"
   ]
  },
  {
   "cell_type": "code",
   "execution_count": 2,
   "metadata": {},
   "outputs": [
    {
     "name": "stdout",
     "output_type": "stream",
     "text": [
      "| [Pushed] image_path: 'extra/standard_c.gif'\n",
      "| [Pushed] nodes_path: 'data/base_nodes.yaml'\n",
      "| [Pushed] edges_path: 'test_edges.yaml'\n"
     ]
    }
   ],
   "source": [
    "A = fig.get_config()\n",
    "A.push('image_path', 'extra/standard_c.gif')\n",
    "A.push('nodes_path', 'data/base_nodes.yaml')\n",
    "A.push('edges_path', 'test_edges.yaml')\n",
    "\n",
    "pass"
   ]
  },
  {
   "cell_type": "code",
   "execution_count": 3,
   "metadata": {},
   "outputs": [
    {
     "name": "stdout",
     "output_type": "stream",
     "text": [
      "| root: None (by default)\n",
      "| image_path: 'extra/standard_c.gif'\n",
      "| name: 'unnamed' (by default)\n",
      "| nodes_path: 'data/base_nodes.yaml'\n",
      "| edges_path: 'test_edges.yaml'\n"
     ]
    }
   ],
   "source": [
    "root = A.pull('root', None)\n",
    "\n",
    "image_path = A.pull('image_path')\n",
    "\n",
    "name = A.pull('name', 'unnamed')\n",
    "\n",
    "nodes_path = A.pull('nodes_path', f'{name}_nodes.yaml')\n",
    "edges_path = A.pull('edges_path', f'{name}_edges.yaml')\n",
    "\n",
    "if root is not None:\n",
    "    image_path = os.path.join(root, image_path)\n",
    "    nodes_path = os.path.join(root, nodes_path)\n",
    "    edges_path = os.path.join(root, edges_path)"
   ]
  },
  {
   "cell_type": "code",
   "execution_count": 4,
   "metadata": {},
   "outputs": [],
   "source": [
    "nodes = load_yaml(nodes_path)\n",
    "edges = load_yaml(edges_path) if os.path.isfile(edges_path) else {'army':{}, 'navy':{}}"
   ]
  },
  {
   "cell_type": "code",
   "execution_count": null,
   "metadata": {},
   "outputs": [],
   "source": []
  },
  {
   "cell_type": "code",
   "execution_count": 13,
   "metadata": {},
   "outputs": [],
   "source": [
    "fig, ax = plt.subplots(figsize=(12, 8))\n",
    "\n",
    "img = mpimg.imread(image_path)\n",
    "\n",
    "# plt.imshow(img)\n",
    "plt.axis('off')\n",
    "\n",
    "plt.title('test')\n",
    "\n",
    "\n",
    "x = plt.scatter(np.random.rand(12), np.random.rand(12),)\n",
    "\n",
    "\n",
    "plt.tight_layout()\n",
    "pass"
   ]
  },
  {
   "cell_type": "code",
   "execution_count": null,
   "metadata": {},
   "outputs": [],
   "source": []
  },
  {
   "cell_type": "code",
   "execution_count": null,
   "metadata": {},
   "outputs": [],
   "source": []
  },
  {
   "cell_type": "code",
   "execution_count": 15,
   "metadata": {},
   "outputs": [
    {
     "name": "stdout",
     "output_type": "stream",
     "text": [
      "button_press_event: xy=(504, 914) xydata=(0.2139793981040468, 0.47920774835236474) button=1 dblclick=False inaxes=AxesSubplot(0.0125,0.01875;0.975x0.935833)\n",
      "button_press_event: xy=(706, 922) xydata=(0.26170534663211953, 0.48371901610672613) button=1 dblclick=False inaxes=AxesSubplot(0.0125,0.01875;0.975x0.935833)\n",
      "button_press_event: xy=(560, 1016) xydata=(0.22721035413163132, 0.5367264122204719) button=1 dblclick=False inaxes=AxesSubplot(0.0125,0.01875;0.975x0.935833)\n",
      "button_press_event: xy=(560, 1016) xydata=(0.22721035413163132, 0.5367264122204719) button=1 dblclick=False inaxes=AxesSubplot(0.0125,0.01875;0.975x0.935833)\n"
     ]
    }
   ],
   "source": [
    "\n",
    "saved = None\n",
    "\n",
    "def onclick(event):\n",
    "    global saved\n",
    "    print(event)\n",
    "    saved = event\n",
    "#     btn = event.button  # 1 is left, 3 is right\n",
    "#     try:\n",
    "#         xy = [float(event.xdata), float(event.ydata)]\n",
    "#     except:\n",
    "#         return\n",
    "\n",
    "#     if btn == 1:\n",
    "\n",
    "#         of = key\n",
    "#         if tname is not None:\n",
    "#             of = f'edge with {tname}'\n",
    "\n",
    "#         print(f'{name} [{of}]: {xy}')\n",
    "\n",
    "#         container[key] = xy\n",
    "\n",
    "#         _next_prompt()\n",
    "\n",
    "#     elif btn == 3:\n",
    "#         print('Going back')\n",
    "#         _prev_node()\n",
    "\n",
    "#     else: # invalid button\n",
    "#         print(f'unknown button: {btn}')\n",
    "#         return\n",
    "\n",
    "\n",
    "bid = fig.canvas.mpl_connect('key_press_event', onclick)\n",
    "cid = fig.canvas.mpl_connect('button_press_event', onclick)\n"
   ]
  },
  {
   "cell_type": "code",
   "execution_count": null,
   "metadata": {},
   "outputs": [],
   "source": []
  },
  {
   "cell_type": "code",
   "execution_count": 30,
   "metadata": {},
   "outputs": [
    {
     "name": "stdout",
     "output_type": "stream",
     "text": [
      "press 'backspace'\n"
     ]
    }
   ],
   "source": [
    "import sys\n",
    "import numpy as np\n",
    "import matplotlib.pyplot as plt\n",
    "\n",
    "\n",
    "def press(event):\n",
    "    print('press', repr(event.key))\n",
    "    sys.stdout.flush()\n",
    "    if event.key == 'x':\n",
    "        visible = xl.get_visible()\n",
    "        xl.set_visible(not visible)\n",
    "        fig.canvas.draw()\n",
    "\n",
    "# Fixing random state for reproducibility\n",
    "np.random.seed(19680801)\n",
    "\n",
    "\n",
    "fig, ax = plt.subplots()\n",
    "\n",
    "fig.canvas.mpl_connect('key_press_event', press)\n",
    "\n",
    "ax.plot(np.random.rand(12), np.random.rand(12), 'go')\n",
    "xl = ax.set_xlabel('easy come, easy go')\n",
    "ax.set_title('Press a key')\n",
    "plt.show()"
   ]
  },
  {
   "cell_type": "code",
   "execution_count": 31,
   "metadata": {},
   "outputs": [],
   "source": [
    "import matplotlib.pyplot as plt\n",
    "\n",
    "def on_pick(event):\n",
    "    artist = event.artist\n",
    "    xmouse, ymouse = event.mouseevent.xdata, event.mouseevent.ydata\n",
    "    x, y = artist.get_xdata(), artist.get_ydata()\n",
    "    ind = event.ind\n",
    "    print(x[ind],y[ind],ind)\n",
    "\n",
    "fig, ax = plt.subplots()\n",
    "\n",
    "tolerance = 10 # points\n",
    "out, = plt.plot(np.random.rand(12), np.random.rand(12), picker=tolerance, ls='', marker='o')\n",
    "\n",
    "fig.canvas.callbacks.connect('pick_event', on_pick)\n",
    "\n",
    "plt.show()"
   ]
  },
  {
   "cell_type": "code",
   "execution_count": 32,
   "metadata": {},
   "outputs": [
    {
     "data": {
      "text/plain": [
       "<matplotlib.lines.Line2D at 0x2605b067c08>"
      ]
     },
     "execution_count": 32,
     "metadata": {},
     "output_type": "execute_result"
    }
   ],
   "source": [
    "out.set_color('y')"
   ]
  },
  {
   "cell_type": "code",
   "execution_count": null,
   "metadata": {},
   "outputs": [],
   "source": []
  }
 ],
 "metadata": {
  "kernelspec": {
   "display_name": "Python 3",
   "language": "python",
   "name": "python3"
  },
  "language_info": {
   "codemirror_mode": {
    "name": "ipython",
    "version": 3
   },
   "file_extension": ".py",
   "mimetype": "text/x-python",
   "name": "python",
   "nbconvert_exporter": "python",
   "pygments_lexer": "ipython3",
   "version": "3.7.4"
  }
 },
 "nbformat": 4,
 "nbformat_minor": 4
}
