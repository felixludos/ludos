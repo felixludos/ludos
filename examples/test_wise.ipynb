{
 "cells": [
  {
   "cell_type": "code",
   "execution_count": 1,
   "id": "62da6f1b",
   "metadata": {},
   "outputs": [],
   "source": [
    "import random\n",
    "import gsm\n",
    "from wise_otherwise import WiseOtherwise"
   ]
  },
  {
   "cell_type": "code",
   "execution_count": 2,
   "id": "0eaf5f6b",
   "metadata": {},
   "outputs": [],
   "source": [
    "T = gsm.GameRoom()"
   ]
  },
  {
   "cell_type": "code",
   "execution_count": 3,
   "id": "9e6d631d",
   "metadata": {},
   "outputs": [
    {
     "name": "stdout",
     "output_type": "stream",
     "text": [
      "['wise']\n"
     ]
    }
   ],
   "source": [
    "print(T.get_available_games())\n",
    "T.set_game('wise');"
   ]
  },
  {
   "cell_type": "code",
   "execution_count": 4,
   "id": "5e3300aa",
   "metadata": {},
   "outputs": [],
   "source": [
    "T.add_player('p1');\n",
    "T.add_player('p2');"
   ]
  },
  {
   "cell_type": "code",
   "execution_count": 5,
   "id": "020720c6",
   "metadata": {},
   "outputs": [],
   "source": [
    "T.set_game_settings(seed=10)\n",
    "T.start_game()"
   ]
  },
  {
   "cell_type": "code",
   "execution_count": 6,
   "id": "89415f3b",
   "metadata": {},
   "outputs": [],
   "source": [
    "raw = T.get_status('p1')\n",
    "status = T.recover_message(raw)"
   ]
  },
  {
   "cell_type": "code",
   "execution_count": 7,
   "id": "4710328d",
   "metadata": {},
   "outputs": [
    {
     "name": "stdout",
     "output_type": "stream",
     "text": [
      "respond: Write a response\n",
      "   0 : \u001b[32mTEXTACTION:TextAction()\u001b[0m\n"
     ]
    }
   ],
   "source": [
    "print(status.actions)"
   ]
  },
  {
   "cell_type": "code",
   "execution_count": 11,
   "id": "320d5d80",
   "metadata": {},
   "outputs": [
    {
     "data": {
      "text/plain": [
       "{'type': 'typ10-3', 'text': 'start10-3', 'end': 'end10-3'}"
      ]
     },
     "execution_count": 11,
     "metadata": {},
     "output_type": "execute_result"
    }
   ],
   "source": [
    "status.observation.state.query"
   ]
  },
  {
   "cell_type": "code",
   "execution_count": null,
   "id": "14685947",
   "metadata": {},
   "outputs": [],
   "source": [
    "466272909392"
   ]
  },
  {
   "cell_type": "code",
   "execution_count": 1,
   "id": "59e2c17e",
   "metadata": {},
   "outputs": [],
   "source": [
    "import os"
   ]
  },
  {
   "cell_type": "code",
   "execution_count": 2,
   "id": "66324bc9",
   "metadata": {},
   "outputs": [
    {
     "data": {
      "text/plain": [
       "True"
      ]
     },
     "execution_count": 2,
     "metadata": {},
     "output_type": "execute_result"
    }
   ],
   "source": [
    "'LUDOS_TOKEN' in os.environ"
   ]
  },
  {
   "cell_type": "code",
   "execution_count": null,
   "id": "06e54ea7",
   "metadata": {},
   "outputs": [],
   "source": []
  },
  {
   "cell_type": "code",
   "execution_count": 6,
   "id": "9a059e21",
   "metadata": {},
   "outputs": [],
   "source": [
    "x = {'a':1}"
   ]
  },
  {
   "cell_type": "code",
   "execution_count": 8,
   "id": "366df100",
   "metadata": {},
   "outputs": [],
   "source": [
    "x.get('b')"
   ]
  },
  {
   "cell_type": "code",
   "execution_count": null,
   "id": "96663db9",
   "metadata": {},
   "outputs": [],
   "source": []
  },
  {
   "cell_type": "code",
   "execution_count": null,
   "id": "31432246",
   "metadata": {},
   "outputs": [],
   "source": []
  }
 ],
 "metadata": {
  "kernelspec": {
   "display_name": "Python 3",
   "language": "python",
   "name": "python3"
  },
  "language_info": {
   "codemirror_mode": {
    "name": "ipython",
    "version": 3
   },
   "file_extension": ".py",
   "mimetype": "text/x-python",
   "name": "python",
   "nbconvert_exporter": "python",
   "pygments_lexer": "ipython3",
   "version": "3.8.8"
  }
 },
 "nbformat": 4,
 "nbformat_minor": 5
}
