{
 "cells": [
  {
   "cell_type": "code",
   "execution_count": 1,
   "id": "initial_id",
   "metadata": {
    "collapsed": true,
    "ExecuteTime": {
     "end_time": "2023-08-21T19:50:21.042844200Z",
     "start_time": "2023-08-21T19:50:20.668280100Z"
    }
   },
   "outputs": [],
   "source": [
    "import requests"
   ]
  },
  {
   "cell_type": "code",
   "execution_count": 3,
   "outputs": [],
   "source": [
    "BASE_URL = \"http://numbersapi.com/\"\n",
    "OPTIONS = ['trivia', 'math', 'date', 'year']\n"
   ],
   "metadata": {
    "collapsed": false,
    "ExecuteTime": {
     "end_time": "2023-08-21T19:53:35.819705300Z",
     "start_time": "2023-08-21T19:53:35.804673200Z"
    }
   },
   "id": "ce3c8ecc1ad9aa84"
  },
  {
   "cell_type": "code",
   "execution_count": 4,
   "outputs": [],
   "source": [
    "def get_number_fact(option='trivia', number='random'):\n",
    "    if option not in OPTIONS:\n",
    "        raise ValueError(f\"Invalid option. Available options are: {', '.join(OPTIONS)}\")\n",
    "    \n",
    "    url = f\"{BASE_URL}{number}/{option}\"\n",
    "    response = requests.get(url)\n",
    "    \n",
    "    if response.status_code == 200:\n",
    "        return response.text\n",
    "    else:\n",
    "        response.raise_for_status()  # This will raise an HTTPError if the HTTP request returned an unsuccessful status code\n"
   ],
   "metadata": {
    "collapsed": false,
    "ExecuteTime": {
     "end_time": "2023-08-21T19:53:36.334805200Z",
     "start_time": "2023-08-21T19:53:36.321586600Z"
    }
   },
   "id": "7e52ab34bd95707d"
  },
  {
   "cell_type": "code",
   "execution_count": 5,
   "outputs": [
    {
     "name": "stdout",
     "output_type": "stream",
     "text": [
      "8000 is the approximate number of mirror squares the biggest disco ball in the world had in 2006.\n"
     ]
    }
   ],
   "source": [
    "\n",
    "try:\n",
    "    fact_type = input(f\"Which type of fact do you want? Options are {', '.join(OPTIONS)} [default: trivia]: \").strip().lower() or 'trivia'\n",
    "    fact = get_number_fact(option=fact_type)\n",
    "    print(fact)\n",
    "except Exception as e:\n",
    "    print(f\"Error: {e}\")\n"
   ],
   "metadata": {
    "collapsed": false,
    "ExecuteTime": {
     "end_time": "2023-08-21T19:53:42.989593700Z",
     "start_time": "2023-08-21T19:53:38.924070100Z"
    }
   },
   "id": "6120bcbbd46587a"
  },
  {
   "cell_type": "code",
   "execution_count": 6,
   "outputs": [
    {
     "data": {
      "text/plain": "4"
     },
     "execution_count": 6,
     "metadata": {},
     "output_type": "execute_result"
    }
   ],
   "source": [
    "fact.find(' is')"
   ],
   "metadata": {
    "collapsed": false,
    "ExecuteTime": {
     "end_time": "2023-08-21T19:54:45.576713Z",
     "start_time": "2023-08-21T19:54:45.549823100Z"
    }
   },
   "id": "6a42579a046894c4"
  },
  {
   "cell_type": "code",
   "execution_count": null,
   "outputs": [],
   "source": [],
   "metadata": {
    "collapsed": false
   },
   "id": "4251e697a321f5c9"
  },
  {
   "cell_type": "code",
   "execution_count": null,
   "outputs": [],
   "source": [],
   "metadata": {
    "collapsed": false
   },
   "id": "a8ab5cc54cb65d07"
  },
  {
   "cell_type": "code",
   "execution_count": null,
   "outputs": [],
   "source": [],
   "metadata": {
    "collapsed": false
   },
   "id": "202a59041b8363d"
  }
 ],
 "metadata": {
  "kernelspec": {
   "display_name": "Python 3",
   "language": "python",
   "name": "python3"
  },
  "language_info": {
   "codemirror_mode": {
    "name": "ipython",
    "version": 2
   },
   "file_extension": ".py",
   "mimetype": "text/x-python",
   "name": "python",
   "nbconvert_exporter": "python",
   "pygments_lexer": "ipython2",
   "version": "2.7.6"
  }
 },
 "nbformat": 4,
 "nbformat_minor": 5
}
